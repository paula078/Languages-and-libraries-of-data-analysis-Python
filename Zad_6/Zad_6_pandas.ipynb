{
 "cells": [
  {
   "cell_type": "code",
   "execution_count": 24,
   "id": "efc46abf",
   "metadata": {},
   "outputs": [],
   "source": [
    "import pandas as pd\n",
    "import matplotlib.pyplot as plt"
   ]
  },
  {
   "cell_type": "code",
   "execution_count": 52,
   "id": "9b1a801c",
   "metadata": {},
   "outputs": [
    {
     "data": {
      "text/plain": "                        Open     High      Low    Close  Volume\nDateTime                                                       \n2017-12-13 10:30:00  1.17483  1.17511  1.17461  1.17510    4318\n2017-12-13 11:00:00  1.17512  1.17514  1.17441  1.17443    4270\n2017-12-13 11:30:00  1.17442  1.17444  1.17381  1.17393    4540\n2017-12-13 12:00:00  1.17392  1.17427  1.17334  1.17351    5130\n2017-12-13 12:30:00  1.17351  1.17401  1.17300  1.17401    5204\n...                      ...      ...      ...      ...     ...\n2021-12-20 11:30:00  1.12723  1.12767  1.12681  1.12703    1144\n2021-12-20 12:00:00  1.12704  1.12765  1.12683  1.12713    1345\n2021-12-20 12:30:00  1.12714  1.12746  1.12680  1.12685    1589\n2021-12-20 13:00:00  1.12684  1.12778  1.12684  1.12768    2231\n2021-12-20 13:30:00  1.12766  1.12981  1.12766  1.12931    2687\n\n[50000 rows x 5 columns]",
      "text/html": "<div>\n<style scoped>\n    .dataframe tbody tr th:only-of-type {\n        vertical-align: middle;\n    }\n\n    .dataframe tbody tr th {\n        vertical-align: top;\n    }\n\n    .dataframe thead th {\n        text-align: right;\n    }\n</style>\n<table border=\"1\" class=\"dataframe\">\n  <thead>\n    <tr style=\"text-align: right;\">\n      <th></th>\n      <th>Open</th>\n      <th>High</th>\n      <th>Low</th>\n      <th>Close</th>\n      <th>Volume</th>\n    </tr>\n    <tr>\n      <th>DateTime</th>\n      <th></th>\n      <th></th>\n      <th></th>\n      <th></th>\n      <th></th>\n    </tr>\n  </thead>\n  <tbody>\n    <tr>\n      <th>2017-12-13 10:30:00</th>\n      <td>1.17483</td>\n      <td>1.17511</td>\n      <td>1.17461</td>\n      <td>1.17510</td>\n      <td>4318</td>\n    </tr>\n    <tr>\n      <th>2017-12-13 11:00:00</th>\n      <td>1.17512</td>\n      <td>1.17514</td>\n      <td>1.17441</td>\n      <td>1.17443</td>\n      <td>4270</td>\n    </tr>\n    <tr>\n      <th>2017-12-13 11:30:00</th>\n      <td>1.17442</td>\n      <td>1.17444</td>\n      <td>1.17381</td>\n      <td>1.17393</td>\n      <td>4540</td>\n    </tr>\n    <tr>\n      <th>2017-12-13 12:00:00</th>\n      <td>1.17392</td>\n      <td>1.17427</td>\n      <td>1.17334</td>\n      <td>1.17351</td>\n      <td>5130</td>\n    </tr>\n    <tr>\n      <th>2017-12-13 12:30:00</th>\n      <td>1.17351</td>\n      <td>1.17401</td>\n      <td>1.17300</td>\n      <td>1.17401</td>\n      <td>5204</td>\n    </tr>\n    <tr>\n      <th>...</th>\n      <td>...</td>\n      <td>...</td>\n      <td>...</td>\n      <td>...</td>\n      <td>...</td>\n    </tr>\n    <tr>\n      <th>2021-12-20 11:30:00</th>\n      <td>1.12723</td>\n      <td>1.12767</td>\n      <td>1.12681</td>\n      <td>1.12703</td>\n      <td>1144</td>\n    </tr>\n    <tr>\n      <th>2021-12-20 12:00:00</th>\n      <td>1.12704</td>\n      <td>1.12765</td>\n      <td>1.12683</td>\n      <td>1.12713</td>\n      <td>1345</td>\n    </tr>\n    <tr>\n      <th>2021-12-20 12:30:00</th>\n      <td>1.12714</td>\n      <td>1.12746</td>\n      <td>1.12680</td>\n      <td>1.12685</td>\n      <td>1589</td>\n    </tr>\n    <tr>\n      <th>2021-12-20 13:00:00</th>\n      <td>1.12684</td>\n      <td>1.12778</td>\n      <td>1.12684</td>\n      <td>1.12768</td>\n      <td>2231</td>\n    </tr>\n    <tr>\n      <th>2021-12-20 13:30:00</th>\n      <td>1.12766</td>\n      <td>1.12981</td>\n      <td>1.12766</td>\n      <td>1.12931</td>\n      <td>2687</td>\n    </tr>\n  </tbody>\n</table>\n<p>50000 rows × 5 columns</p>\n</div>"
     },
     "execution_count": 52,
     "metadata": {},
     "output_type": "execute_result"
    }
   ],
   "source": [
    "df = pd.read_csv(\"EURUSD30.csv\", sep=\"\\t\", names=['DateTime', 'Open', 'High', 'Low', 'Close', 'Volume'], index_col=0, parse_dates=True)\n",
    "df"
   ]
  },
  {
   "cell_type": "code",
   "execution_count": 53,
   "id": "90eec464",
   "metadata": {
    "scrolled": true
   },
   "outputs": [
    {
     "data": {
      "text/plain": "Empty DataFrame\nColumns: [Open, High, Low, Close, Volume]\nIndex: []",
      "text/html": "<div>\n<style scoped>\n    .dataframe tbody tr th:only-of-type {\n        vertical-align: middle;\n    }\n\n    .dataframe tbody tr th {\n        vertical-align: top;\n    }\n\n    .dataframe thead th {\n        text-align: right;\n    }\n</style>\n<table border=\"1\" class=\"dataframe\">\n  <thead>\n    <tr style=\"text-align: right;\">\n      <th></th>\n      <th>Open</th>\n      <th>High</th>\n      <th>Low</th>\n      <th>Close</th>\n      <th>Volume</th>\n    </tr>\n    <tr>\n      <th>DateTime</th>\n      <th></th>\n      <th></th>\n      <th></th>\n      <th></th>\n      <th></th>\n    </tr>\n  </thead>\n  <tbody>\n  </tbody>\n</table>\n</div>"
     },
     "execution_count": 53,
     "metadata": {},
     "output_type": "execute_result"
    }
   ],
   "source": [
    "df[df.isnull().sum(axis=1) > 0]"
   ]
  },
  {
   "cell_type": "code",
   "execution_count": 54,
   "outputs": [],
   "source": [
    "#D - resample, by day\n",
    "df_daily = df.resample('D').agg({\n",
    "    'Open': 'first',\n",
    "    'High': 'max',\n",
    "    'Low': 'min',\n",
    "    'Close': 'last',\n",
    "    'Volume': 'sum'\n",
    "})"
   ],
   "metadata": {
    "collapsed": false,
    "pycharm": {
     "name": "#%%\n"
    }
   }
  },
  {
   "cell_type": "code",
   "execution_count": 55,
   "outputs": [
    {
     "data": {
      "text/plain": "               Open     High      Low    Close  Volume\nDateTime                                              \n2017-12-13  1.17483  1.18404  1.17294  1.18361  159374\n2017-12-14  1.18361  1.18625  1.17645  1.17745  241280\n2017-12-15  1.17745  1.18123  1.17488  1.17492  200462\n2017-12-16      NaN      NaN      NaN      NaN       0\n2017-12-17  1.17441  1.17509  1.17377  1.17432    8500\n...             ...      ...      ...      ...     ...\n2021-12-16  1.12903  1.13603  1.12811  1.13336   81934\n2021-12-17  1.13335  1.13488  1.12350  1.12370   71994\n2021-12-18      NaN      NaN      NaN      NaN       0\n2021-12-19  1.12371  1.12439  1.12344  1.12428    1888\n2021-12-20  1.12426  1.12981  1.12363  1.12931   44619\n\n[1469 rows x 5 columns]",
      "text/html": "<div>\n<style scoped>\n    .dataframe tbody tr th:only-of-type {\n        vertical-align: middle;\n    }\n\n    .dataframe tbody tr th {\n        vertical-align: top;\n    }\n\n    .dataframe thead th {\n        text-align: right;\n    }\n</style>\n<table border=\"1\" class=\"dataframe\">\n  <thead>\n    <tr style=\"text-align: right;\">\n      <th></th>\n      <th>Open</th>\n      <th>High</th>\n      <th>Low</th>\n      <th>Close</th>\n      <th>Volume</th>\n    </tr>\n    <tr>\n      <th>DateTime</th>\n      <th></th>\n      <th></th>\n      <th></th>\n      <th></th>\n      <th></th>\n    </tr>\n  </thead>\n  <tbody>\n    <tr>\n      <th>2017-12-13</th>\n      <td>1.17483</td>\n      <td>1.18404</td>\n      <td>1.17294</td>\n      <td>1.18361</td>\n      <td>159374</td>\n    </tr>\n    <tr>\n      <th>2017-12-14</th>\n      <td>1.18361</td>\n      <td>1.18625</td>\n      <td>1.17645</td>\n      <td>1.17745</td>\n      <td>241280</td>\n    </tr>\n    <tr>\n      <th>2017-12-15</th>\n      <td>1.17745</td>\n      <td>1.18123</td>\n      <td>1.17488</td>\n      <td>1.17492</td>\n      <td>200462</td>\n    </tr>\n    <tr>\n      <th>2017-12-16</th>\n      <td>NaN</td>\n      <td>NaN</td>\n      <td>NaN</td>\n      <td>NaN</td>\n      <td>0</td>\n    </tr>\n    <tr>\n      <th>2017-12-17</th>\n      <td>1.17441</td>\n      <td>1.17509</td>\n      <td>1.17377</td>\n      <td>1.17432</td>\n      <td>8500</td>\n    </tr>\n    <tr>\n      <th>...</th>\n      <td>...</td>\n      <td>...</td>\n      <td>...</td>\n      <td>...</td>\n      <td>...</td>\n    </tr>\n    <tr>\n      <th>2021-12-16</th>\n      <td>1.12903</td>\n      <td>1.13603</td>\n      <td>1.12811</td>\n      <td>1.13336</td>\n      <td>81934</td>\n    </tr>\n    <tr>\n      <th>2021-12-17</th>\n      <td>1.13335</td>\n      <td>1.13488</td>\n      <td>1.12350</td>\n      <td>1.12370</td>\n      <td>71994</td>\n    </tr>\n    <tr>\n      <th>2021-12-18</th>\n      <td>NaN</td>\n      <td>NaN</td>\n      <td>NaN</td>\n      <td>NaN</td>\n      <td>0</td>\n    </tr>\n    <tr>\n      <th>2021-12-19</th>\n      <td>1.12371</td>\n      <td>1.12439</td>\n      <td>1.12344</td>\n      <td>1.12428</td>\n      <td>1888</td>\n    </tr>\n    <tr>\n      <th>2021-12-20</th>\n      <td>1.12426</td>\n      <td>1.12981</td>\n      <td>1.12363</td>\n      <td>1.12931</td>\n      <td>44619</td>\n    </tr>\n  </tbody>\n</table>\n<p>1469 rows × 5 columns</p>\n</div>"
     },
     "execution_count": 55,
     "metadata": {},
     "output_type": "execute_result"
    }
   ],
   "source": [
    "df_daily"
   ],
   "metadata": {
    "collapsed": false,
    "pycharm": {
     "name": "#%%\n"
    }
   }
  },
  {
   "cell_type": "code",
   "execution_count": 56,
   "outputs": [
    {
     "data": {
      "text/plain": "            Open  High  Low  Close  Volume\nDateTime                                  \n2017-12-16   NaN   NaN  NaN    NaN       0\n2017-12-23   NaN   NaN  NaN    NaN       0\n2017-12-30   NaN   NaN  NaN    NaN       0\n2017-12-31   NaN   NaN  NaN    NaN       0\n2018-01-06   NaN   NaN  NaN    NaN       0\n...          ...   ...  ...    ...     ...\n2021-11-20   NaN   NaN  NaN    NaN       0\n2021-11-27   NaN   NaN  NaN    NaN       0\n2021-12-04   NaN   NaN  NaN    NaN       0\n2021-12-11   NaN   NaN  NaN    NaN       0\n2021-12-18   NaN   NaN  NaN    NaN       0\n\n[212 rows x 5 columns]",
      "text/html": "<div>\n<style scoped>\n    .dataframe tbody tr th:only-of-type {\n        vertical-align: middle;\n    }\n\n    .dataframe tbody tr th {\n        vertical-align: top;\n    }\n\n    .dataframe thead th {\n        text-align: right;\n    }\n</style>\n<table border=\"1\" class=\"dataframe\">\n  <thead>\n    <tr style=\"text-align: right;\">\n      <th></th>\n      <th>Open</th>\n      <th>High</th>\n      <th>Low</th>\n      <th>Close</th>\n      <th>Volume</th>\n    </tr>\n    <tr>\n      <th>DateTime</th>\n      <th></th>\n      <th></th>\n      <th></th>\n      <th></th>\n      <th></th>\n    </tr>\n  </thead>\n  <tbody>\n    <tr>\n      <th>2017-12-16</th>\n      <td>NaN</td>\n      <td>NaN</td>\n      <td>NaN</td>\n      <td>NaN</td>\n      <td>0</td>\n    </tr>\n    <tr>\n      <th>2017-12-23</th>\n      <td>NaN</td>\n      <td>NaN</td>\n      <td>NaN</td>\n      <td>NaN</td>\n      <td>0</td>\n    </tr>\n    <tr>\n      <th>2017-12-30</th>\n      <td>NaN</td>\n      <td>NaN</td>\n      <td>NaN</td>\n      <td>NaN</td>\n      <td>0</td>\n    </tr>\n    <tr>\n      <th>2017-12-31</th>\n      <td>NaN</td>\n      <td>NaN</td>\n      <td>NaN</td>\n      <td>NaN</td>\n      <td>0</td>\n    </tr>\n    <tr>\n      <th>2018-01-06</th>\n      <td>NaN</td>\n      <td>NaN</td>\n      <td>NaN</td>\n      <td>NaN</td>\n      <td>0</td>\n    </tr>\n    <tr>\n      <th>...</th>\n      <td>...</td>\n      <td>...</td>\n      <td>...</td>\n      <td>...</td>\n      <td>...</td>\n    </tr>\n    <tr>\n      <th>2021-11-20</th>\n      <td>NaN</td>\n      <td>NaN</td>\n      <td>NaN</td>\n      <td>NaN</td>\n      <td>0</td>\n    </tr>\n    <tr>\n      <th>2021-11-27</th>\n      <td>NaN</td>\n      <td>NaN</td>\n      <td>NaN</td>\n      <td>NaN</td>\n      <td>0</td>\n    </tr>\n    <tr>\n      <th>2021-12-04</th>\n      <td>NaN</td>\n      <td>NaN</td>\n      <td>NaN</td>\n      <td>NaN</td>\n      <td>0</td>\n    </tr>\n    <tr>\n      <th>2021-12-11</th>\n      <td>NaN</td>\n      <td>NaN</td>\n      <td>NaN</td>\n      <td>NaN</td>\n      <td>0</td>\n    </tr>\n    <tr>\n      <th>2021-12-18</th>\n      <td>NaN</td>\n      <td>NaN</td>\n      <td>NaN</td>\n      <td>NaN</td>\n      <td>0</td>\n    </tr>\n  </tbody>\n</table>\n<p>212 rows × 5 columns</p>\n</div>"
     },
     "execution_count": 56,
     "metadata": {},
     "output_type": "execute_result"
    }
   ],
   "source": [
    "df_daily[df_daily.isnull().sum(axis=1) > 0]"
   ],
   "metadata": {
    "collapsed": false,
    "pycharm": {
     "name": "#%%\n"
    }
   }
  },
  {
   "cell_type": "code",
   "execution_count": 57,
   "outputs": [
    {
     "data": {
      "text/plain": "               Open     High      Low    Close  Volume\nDateTime                                              \n2017-12-13  1.17483  1.18404  1.17294  1.18361  159374\n2017-12-14  1.18361  1.18625  1.17645  1.17745  241280\n2017-12-15  1.17745  1.18123  1.17488  1.17492  200462\n2017-12-17  1.17441  1.17509  1.17377  1.17432    8500\n2017-12-18  1.17432  1.18342  1.17420  1.17837  199846\n...             ...      ...      ...      ...     ...\n2021-12-15  1.12575  1.12991  1.12215  1.12902  114369\n2021-12-16  1.12903  1.13603  1.12811  1.13336   81934\n2021-12-17  1.13335  1.13488  1.12350  1.12370   71994\n2021-12-19  1.12371  1.12439  1.12344  1.12428    1888\n2021-12-20  1.12426  1.12981  1.12363  1.12931   44619\n\n[1257 rows x 5 columns]",
      "text/html": "<div>\n<style scoped>\n    .dataframe tbody tr th:only-of-type {\n        vertical-align: middle;\n    }\n\n    .dataframe tbody tr th {\n        vertical-align: top;\n    }\n\n    .dataframe thead th {\n        text-align: right;\n    }\n</style>\n<table border=\"1\" class=\"dataframe\">\n  <thead>\n    <tr style=\"text-align: right;\">\n      <th></th>\n      <th>Open</th>\n      <th>High</th>\n      <th>Low</th>\n      <th>Close</th>\n      <th>Volume</th>\n    </tr>\n    <tr>\n      <th>DateTime</th>\n      <th></th>\n      <th></th>\n      <th></th>\n      <th></th>\n      <th></th>\n    </tr>\n  </thead>\n  <tbody>\n    <tr>\n      <th>2017-12-13</th>\n      <td>1.17483</td>\n      <td>1.18404</td>\n      <td>1.17294</td>\n      <td>1.18361</td>\n      <td>159374</td>\n    </tr>\n    <tr>\n      <th>2017-12-14</th>\n      <td>1.18361</td>\n      <td>1.18625</td>\n      <td>1.17645</td>\n      <td>1.17745</td>\n      <td>241280</td>\n    </tr>\n    <tr>\n      <th>2017-12-15</th>\n      <td>1.17745</td>\n      <td>1.18123</td>\n      <td>1.17488</td>\n      <td>1.17492</td>\n      <td>200462</td>\n    </tr>\n    <tr>\n      <th>2017-12-17</th>\n      <td>1.17441</td>\n      <td>1.17509</td>\n      <td>1.17377</td>\n      <td>1.17432</td>\n      <td>8500</td>\n    </tr>\n    <tr>\n      <th>2017-12-18</th>\n      <td>1.17432</td>\n      <td>1.18342</td>\n      <td>1.17420</td>\n      <td>1.17837</td>\n      <td>199846</td>\n    </tr>\n    <tr>\n      <th>...</th>\n      <td>...</td>\n      <td>...</td>\n      <td>...</td>\n      <td>...</td>\n      <td>...</td>\n    </tr>\n    <tr>\n      <th>2021-12-15</th>\n      <td>1.12575</td>\n      <td>1.12991</td>\n      <td>1.12215</td>\n      <td>1.12902</td>\n      <td>114369</td>\n    </tr>\n    <tr>\n      <th>2021-12-16</th>\n      <td>1.12903</td>\n      <td>1.13603</td>\n      <td>1.12811</td>\n      <td>1.13336</td>\n      <td>81934</td>\n    </tr>\n    <tr>\n      <th>2021-12-17</th>\n      <td>1.13335</td>\n      <td>1.13488</td>\n      <td>1.12350</td>\n      <td>1.12370</td>\n      <td>71994</td>\n    </tr>\n    <tr>\n      <th>2021-12-19</th>\n      <td>1.12371</td>\n      <td>1.12439</td>\n      <td>1.12344</td>\n      <td>1.12428</td>\n      <td>1888</td>\n    </tr>\n    <tr>\n      <th>2021-12-20</th>\n      <td>1.12426</td>\n      <td>1.12981</td>\n      <td>1.12363</td>\n      <td>1.12931</td>\n      <td>44619</td>\n    </tr>\n  </tbody>\n</table>\n<p>1257 rows × 5 columns</p>\n</div>"
     },
     "execution_count": 57,
     "metadata": {},
     "output_type": "execute_result"
    }
   ],
   "source": [
    "df_daily = df_daily.dropna()\n",
    "df_daily"
   ],
   "metadata": {
    "collapsed": false,
    "pycharm": {
     "name": "#%%\n"
    }
   }
  },
  {
   "cell_type": "code",
   "execution_count": 58,
   "outputs": [
    {
     "name": "stderr",
     "output_type": "stream",
     "text": [
      "C:\\Users\\pauli\\AppData\\Local\\Temp\\ipykernel_11440\\578947849.py:1: SettingWithCopyWarning: \n",
      "A value is trying to be set on a copy of a slice from a DataFrame.\n",
      "Try using .loc[row_indexer,col_indexer] = value instead\n",
      "\n",
      "See the caveats in the documentation: https://pandas.pydata.org/pandas-docs/stable/user_guide/indexing.html#returning-a-view-versus-a-copy\n",
      "  df_daily['DailyReturn'] = ((df_daily['Close'] - df_daily['Open']) / df_daily['Open']) * 100\n"
     ]
    }
   ],
   "source": [
    "df_daily['DailyReturn'] = ((df_daily['Close'] - df_daily['Open']) / df_daily['Open']) * 100"
   ],
   "metadata": {
    "collapsed": false,
    "pycharm": {
     "name": "#%%\n"
    }
   }
  },
  {
   "cell_type": "code",
   "execution_count": 59,
   "outputs": [
    {
     "data": {
      "text/plain": "DateTime\n2017-12-13    0.747342\n2017-12-14   -0.520442\n2017-12-15   -0.214871\n2017-12-17   -0.007663\n2017-12-18    0.344880\n                ...   \n2021-12-15    0.290473\n2021-12-16    0.383515\n2021-12-17   -0.851458\n2021-12-19    0.050725\n2021-12-20    0.449184\nName: DailyReturn, Length: 1257, dtype: float64"
     },
     "execution_count": 59,
     "metadata": {},
     "output_type": "execute_result"
    }
   ],
   "source": [
    "df_daily['DailyReturn']"
   ],
   "metadata": {
    "collapsed": false,
    "pycharm": {
     "name": "#%%\n"
    }
   }
  },
  {
   "cell_type": "code",
   "execution_count": 60,
   "outputs": [],
   "source": [
    "mean_daily_return = df_daily['DailyReturn'].mean()\n",
    "std_daily_return = df_daily['DailyReturn'].std()"
   ],
   "metadata": {
    "collapsed": false,
    "pycharm": {
     "name": "#%%\n"
    }
   }
  },
  {
   "cell_type": "code",
   "execution_count": 61,
   "outputs": [
    {
     "data": {
      "text/plain": "<Figure size 720x432 with 1 Axes>",
      "image/png": "[encoded data removed]"
     },
     "metadata": {
      "needs_background": "light"
     },
     "output_type": "display_data"
    }
   ],
   "source": [
    "df_daily['DailyReturn'].hist(bins=20, edgecolor='black', grid=False, figsize=(10, 6))\n",
    "plt.title('Histogram of Daily Returns')\n",
    "plt.xlabel('Percentage Change (Increase or Decrease)')\n",
    "plt.ylabel('Number of Days')\n",
    "plt.show()"
   ],
   "metadata": {
    "collapsed": false,
    "pycharm": {
     "name": "#%%\n"
    }
   }
  },
  {
   "cell_type": "code",
   "execution_count": 62,
   "outputs": [
    {
     "name": "stderr",
     "output_type": "stream",
     "text": [
      "C:\\Users\\pauli\\AppData\\Local\\Temp\\ipykernel_11440\\2869843395.py:1: SettingWithCopyWarning: \n",
      "A value is trying to be set on a copy of a slice from a DataFrame.\n",
      "Try using .loc[row_indexer,col_indexer] = value instead\n",
      "\n",
      "See the caveats in the documentation: https://pandas.pydata.org/pandas-docs/stable/user_guide/indexing.html#returning-a-view-versus-a-copy\n",
      "  df_daily.loc[:, 'ThreeDayReturn'] = ((df_daily['Close'] - df_daily['Open'].shift(2)) / df_daily['Open'].shift(2)) * 100\n"
     ]
    }
   ],
   "source": [
    "df_daily.loc[:, 'ThreeDayReturn'] = ((df_daily['Close'] - df_daily['Open'].shift(2)) / df_daily['Open'].shift(2)) * 100"
   ],
   "metadata": {
    "collapsed": false,
    "pycharm": {
     "name": "#%%\n"
    }
   }
  },
  {
   "cell_type": "code",
   "execution_count": 63,
   "outputs": [
    {
     "data": {
      "text/plain": "DateTime\n2017-12-13         NaN\n2017-12-14         NaN\n2017-12-15    0.007661\n2017-12-17   -0.784887\n2017-12-18    0.078135\n                ...   \n2021-12-15   -0.180362\n2021-12-16    0.444901\n2021-12-17   -0.182101\n2021-12-19   -0.420715\n2021-12-20   -0.356465\nName: ThreeDayReturn, Length: 1257, dtype: float64"
     },
     "execution_count": 63,
     "metadata": {},
     "output_type": "execute_result"
    }
   ],
   "source": [
    "df_daily['ThreeDayReturn']"
   ],
   "metadata": {
    "collapsed": false,
    "pycharm": {
     "name": "#%%\n"
    }
   }
  },
  {
   "cell_type": "code",
   "execution_count": 64,
   "outputs": [],
   "source": [
    "mean_three_day_return = df_daily['ThreeDayReturn'].mean()\n",
    "std_three_day_return = df_daily['ThreeDayReturn'].std()"
   ],
   "metadata": {
    "collapsed": false,
    "pycharm": {
     "name": "#%%\n"
    }
   }
  },
  {
   "cell_type": "code",
   "execution_count": 65,
   "outputs": [
    {
     "data": {
      "text/plain": "<Figure size 720x432 with 1 Axes>",
      "image/png": "[encoded data removed]"
     },
     "metadata": {
      "needs_background": "light"
     },
     "output_type": "display_data"
    }
   ],
   "source": [
    "df_daily['ThreeDayReturn'].hist(bins=20, edgecolor='black', grid=False, figsize=(10, 6))\n",
    "plt.title('Histogram of Three-Day Returns')\n",
    "plt.xlabel('Percentage Change (Increase or Decrease)')\n",
    "plt.ylabel('Number of Days')\n",
    "plt.show()"
   ],
   "metadata": {
    "collapsed": false,
    "pycharm": {
     "name": "#%%\n"
    }
   }
  }
 ],
 "metadata": {
  "kernelspec": {
   "display_name": "Python 3 (ipykernel)",
   "language": "python",
   "name": "python3"
  },
  "language_info": {
   "codemirror_mode": {
    "name": "ipython",
    "version": 3
   },
   "file_extension": ".py",
   "mimetype": "text/x-python",
   "name": "python",
   "nbconvert_exporter": "python",
   "pygments_lexer": "ipython3",
   "version": "3.10.2"
  }
 },
 "nbformat": 4,
 "nbformat_minor": 5
}